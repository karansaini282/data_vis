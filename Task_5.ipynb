{
 "cells": [
  {
   "cell_type": "code",
   "execution_count": 1,
   "metadata": {},
   "outputs": [],
   "source": [
    "from datetime import datetime\n",
    "import pandas as pd\n",
    "import numpy as np\n",
    "import matplotlib.pyplot as plt\n",
    "%matplotlib inline"
   ]
  },
  {
   "cell_type": "code",
   "execution_count": 2,
   "metadata": {},
   "outputs": [],
   "source": [
    "df_paths = pd.read_csv('out_repo/vehicle_paths.csv')"
   ]
  },
  {
   "cell_type": "code",
   "execution_count": 58,
   "metadata": {},
   "outputs": [
    {
     "data": {
      "text/plain": [
       "4    1614956\n",
       "3     549930\n",
       "2     235429\n",
       "1     130637\n",
       "0     112479\n",
       "Name: Num_Passengers, dtype: int64"
      ]
     },
     "execution_count": 58,
     "metadata": {},
     "output_type": "execute_result"
    }
   ],
   "source": [
    "df_paths.Num_Passengers.value_counts()"
   ]
  },
  {
   "cell_type": "code",
   "execution_count": 16,
   "metadata": {},
   "outputs": [],
   "source": [
    "df_paths['Date'] = df_paths['Timestamp'].map(lambda x: datetime.utcfromtimestamp(int(x)).strftime('%Y-%m-%d %H:%M:%S'))"
   ]
  },
  {
   "cell_type": "code",
   "execution_count": 19,
   "metadata": {},
   "outputs": [
    {
     "data": {
      "text/html": [
       "<div>\n",
       "<style scoped>\n",
       "    .dataframe tbody tr th:only-of-type {\n",
       "        vertical-align: middle;\n",
       "    }\n",
       "\n",
       "    .dataframe tbody tr th {\n",
       "        vertical-align: top;\n",
       "    }\n",
       "\n",
       "    .dataframe thead th {\n",
       "        text-align: right;\n",
       "    }\n",
       "</style>\n",
       "<table border=\"1\" class=\"dataframe\">\n",
       "  <thead>\n",
       "    <tr style=\"text-align: right;\">\n",
       "      <th></th>\n",
       "      <th>Timestamp</th>\n",
       "      <th>Vehicle_ID</th>\n",
       "      <th>Latitude</th>\n",
       "      <th>Longitude</th>\n",
       "      <th>Num_Passengers</th>\n",
       "      <th>Date</th>\n",
       "    </tr>\n",
       "  </thead>\n",
       "  <tbody>\n",
       "    <tr>\n",
       "      <th>0</th>\n",
       "      <td>1380949230</td>\n",
       "      <td>137</td>\n",
       "      <td>40.73467</td>\n",
       "      <td>-73.99459</td>\n",
       "      <td>0</td>\n",
       "      <td>2013-10-05 05:00:30</td>\n",
       "    </tr>\n",
       "    <tr>\n",
       "      <th>1</th>\n",
       "      <td>1380949230</td>\n",
       "      <td>321</td>\n",
       "      <td>40.78573</td>\n",
       "      <td>-73.97644</td>\n",
       "      <td>0</td>\n",
       "      <td>2013-10-05 05:00:30</td>\n",
       "    </tr>\n",
       "    <tr>\n",
       "      <th>2</th>\n",
       "      <td>1380949230</td>\n",
       "      <td>428</td>\n",
       "      <td>40.78154</td>\n",
       "      <td>-73.96041</td>\n",
       "      <td>0</td>\n",
       "      <td>2013-10-05 05:00:30</td>\n",
       "    </tr>\n",
       "    <tr>\n",
       "      <th>3</th>\n",
       "      <td>1380949231</td>\n",
       "      <td>148</td>\n",
       "      <td>40.73478</td>\n",
       "      <td>-73.99871</td>\n",
       "      <td>0</td>\n",
       "      <td>2013-10-05 05:00:31</td>\n",
       "    </tr>\n",
       "    <tr>\n",
       "      <th>4</th>\n",
       "      <td>1380949231</td>\n",
       "      <td>148</td>\n",
       "      <td>40.73478</td>\n",
       "      <td>-73.99871</td>\n",
       "      <td>0</td>\n",
       "      <td>2013-10-05 05:00:31</td>\n",
       "    </tr>\n",
       "  </tbody>\n",
       "</table>\n",
       "</div>"
      ],
      "text/plain": [
       "    Timestamp  Vehicle_ID  Latitude  Longitude  Num_Passengers  \\\n",
       "0  1380949230         137  40.73467  -73.99459               0   \n",
       "1  1380949230         321  40.78573  -73.97644               0   \n",
       "2  1380949230         428  40.78154  -73.96041               0   \n",
       "3  1380949231         148  40.73478  -73.99871               0   \n",
       "4  1380949231         148  40.73478  -73.99871               0   \n",
       "\n",
       "                  Date  \n",
       "0  2013-10-05 05:00:30  \n",
       "1  2013-10-05 05:00:30  \n",
       "2  2013-10-05 05:00:30  \n",
       "3  2013-10-05 05:00:31  \n",
       "4  2013-10-05 05:00:31  "
      ]
     },
     "execution_count": 19,
     "metadata": {},
     "output_type": "execute_result"
    }
   ],
   "source": [
    "df_paths.head()"
   ]
  },
  {
   "cell_type": "code",
   "execution_count": 52,
   "metadata": {},
   "outputs": [],
   "source": [
    "df_events = pd.read_csv('out_repo/vehicle_events.csv')\n",
    "#df_events = df_events[['Timestamp','Vehicle_ID','Stop_Intersection']]"
   ]
  },
  {
   "cell_type": "code",
   "execution_count": 48,
   "metadata": {},
   "outputs": [
    {
     "data": {
      "text/html": [
       "<div>\n",
       "<style scoped>\n",
       "    .dataframe tbody tr th:only-of-type {\n",
       "        vertical-align: middle;\n",
       "    }\n",
       "\n",
       "    .dataframe tbody tr th {\n",
       "        vertical-align: top;\n",
       "    }\n",
       "\n",
       "    .dataframe thead th {\n",
       "        text-align: right;\n",
       "    }\n",
       "</style>\n",
       "<table border=\"1\" class=\"dataframe\">\n",
       "  <thead>\n",
       "    <tr style=\"text-align: right;\">\n",
       "      <th></th>\n",
       "      <th>Timestamp</th>\n",
       "      <th>Vehicle_ID</th>\n",
       "      <th>Stop_Intersection</th>\n",
       "      <th>Stop_Passengers</th>\n",
       "      <th>Requested_Stop_Intersection</th>\n",
       "    </tr>\n",
       "  </thead>\n",
       "  <tbody>\n",
       "    <tr>\n",
       "      <th>0</th>\n",
       "      <td>1380949230</td>\n",
       "      <td>137</td>\n",
       "      <td>1116</td>\n",
       "      <td>1</td>\n",
       "      <td>NaN</td>\n",
       "    </tr>\n",
       "    <tr>\n",
       "      <th>1</th>\n",
       "      <td>1380949230</td>\n",
       "      <td>321</td>\n",
       "      <td>707</td>\n",
       "      <td>1</td>\n",
       "      <td>NaN</td>\n",
       "    </tr>\n",
       "    <tr>\n",
       "      <th>2</th>\n",
       "      <td>1380949230</td>\n",
       "      <td>428</td>\n",
       "      <td>2818</td>\n",
       "      <td>1</td>\n",
       "      <td>NaN</td>\n",
       "    </tr>\n",
       "    <tr>\n",
       "      <th>3</th>\n",
       "      <td>1380949240</td>\n",
       "      <td>148</td>\n",
       "      <td>3132</td>\n",
       "      <td>1</td>\n",
       "      <td>NaN</td>\n",
       "    </tr>\n",
       "    <tr>\n",
       "      <th>4</th>\n",
       "      <td>1380949240</td>\n",
       "      <td>343</td>\n",
       "      <td>1738</td>\n",
       "      <td>1</td>\n",
       "      <td>NaN</td>\n",
       "    </tr>\n",
       "  </tbody>\n",
       "</table>\n",
       "</div>"
      ],
      "text/plain": [
       "    Timestamp  Vehicle_ID  Stop_Intersection  Stop_Passengers  \\\n",
       "0  1380949230         137               1116                1   \n",
       "1  1380949230         321                707                1   \n",
       "2  1380949230         428               2818                1   \n",
       "3  1380949240         148               3132                1   \n",
       "4  1380949240         343               1738                1   \n",
       "\n",
       "   Requested_Stop_Intersection  \n",
       "0                          NaN  \n",
       "1                          NaN  \n",
       "2                          NaN  \n",
       "3                          NaN  \n",
       "4                          NaN  "
      ]
     },
     "execution_count": 48,
     "metadata": {},
     "output_type": "execute_result"
    }
   ],
   "source": [
    "df_events.head()"
   ]
  },
  {
   "cell_type": "code",
   "execution_count": 39,
   "metadata": {},
   "outputs": [],
   "source": [
    "df_merge = df_paths.merge(df_events,on=['Timestamp','Vehicle_ID'],how='left')"
   ]
  },
  {
   "cell_type": "code",
   "execution_count": 40,
   "metadata": {
    "scrolled": true
   },
   "outputs": [
    {
     "data": {
      "text/html": [
       "<div>\n",
       "<style scoped>\n",
       "    .dataframe tbody tr th:only-of-type {\n",
       "        vertical-align: middle;\n",
       "    }\n",
       "\n",
       "    .dataframe tbody tr th {\n",
       "        vertical-align: top;\n",
       "    }\n",
       "\n",
       "    .dataframe thead th {\n",
       "        text-align: right;\n",
       "    }\n",
       "</style>\n",
       "<table border=\"1\" class=\"dataframe\">\n",
       "  <thead>\n",
       "    <tr style=\"text-align: right;\">\n",
       "      <th></th>\n",
       "      <th>Timestamp</th>\n",
       "      <th>Vehicle_ID</th>\n",
       "      <th>Latitude</th>\n",
       "      <th>Longitude</th>\n",
       "      <th>Num_Passengers</th>\n",
       "      <th>Date</th>\n",
       "      <th>Stop_Intersection</th>\n",
       "    </tr>\n",
       "  </thead>\n",
       "  <tbody>\n",
       "    <tr>\n",
       "      <th>0</th>\n",
       "      <td>1380949230</td>\n",
       "      <td>137</td>\n",
       "      <td>40.73467</td>\n",
       "      <td>-73.99459</td>\n",
       "      <td>0</td>\n",
       "      <td>2013-10-05 05:00:30</td>\n",
       "      <td>1116.0</td>\n",
       "    </tr>\n",
       "    <tr>\n",
       "      <th>1</th>\n",
       "      <td>1380949230</td>\n",
       "      <td>321</td>\n",
       "      <td>40.78573</td>\n",
       "      <td>-73.97644</td>\n",
       "      <td>0</td>\n",
       "      <td>2013-10-05 05:00:30</td>\n",
       "      <td>707.0</td>\n",
       "    </tr>\n",
       "    <tr>\n",
       "      <th>2</th>\n",
       "      <td>1380949230</td>\n",
       "      <td>428</td>\n",
       "      <td>40.78154</td>\n",
       "      <td>-73.96041</td>\n",
       "      <td>0</td>\n",
       "      <td>2013-10-05 05:00:30</td>\n",
       "      <td>2818.0</td>\n",
       "    </tr>\n",
       "    <tr>\n",
       "      <th>3</th>\n",
       "      <td>1380949231</td>\n",
       "      <td>148</td>\n",
       "      <td>40.73478</td>\n",
       "      <td>-73.99871</td>\n",
       "      <td>0</td>\n",
       "      <td>2013-10-05 05:00:31</td>\n",
       "      <td>NaN</td>\n",
       "    </tr>\n",
       "    <tr>\n",
       "      <th>4</th>\n",
       "      <td>1380949231</td>\n",
       "      <td>148</td>\n",
       "      <td>40.73478</td>\n",
       "      <td>-73.99871</td>\n",
       "      <td>0</td>\n",
       "      <td>2013-10-05 05:00:31</td>\n",
       "      <td>NaN</td>\n",
       "    </tr>\n",
       "  </tbody>\n",
       "</table>\n",
       "</div>"
      ],
      "text/plain": [
       "    Timestamp  Vehicle_ID  Latitude  Longitude  Num_Passengers  \\\n",
       "0  1380949230         137  40.73467  -73.99459               0   \n",
       "1  1380949230         321  40.78573  -73.97644               0   \n",
       "2  1380949230         428  40.78154  -73.96041               0   \n",
       "3  1380949231         148  40.73478  -73.99871               0   \n",
       "4  1380949231         148  40.73478  -73.99871               0   \n",
       "\n",
       "                  Date  Stop_Intersection  \n",
       "0  2013-10-05 05:00:30             1116.0  \n",
       "1  2013-10-05 05:00:30              707.0  \n",
       "2  2013-10-05 05:00:30             2818.0  \n",
       "3  2013-10-05 05:00:31                NaN  \n",
       "4  2013-10-05 05:00:31                NaN  "
      ]
     },
     "execution_count": 40,
     "metadata": {},
     "output_type": "execute_result"
    }
   ],
   "source": [
    "df_merge.head()"
   ]
  },
  {
   "cell_type": "code",
   "execution_count": 3,
   "metadata": {},
   "outputs": [],
   "source": [
    "res = df_paths[['Vehicle_ID','Num_Passengers']].groupby('Vehicle_ID').mean()"
   ]
  },
  {
   "cell_type": "code",
   "execution_count": 4,
   "metadata": {},
   "outputs": [],
   "source": [
    "res = res.sort_values(by=['Num_Passengers'],ascending=False).reset_index()"
   ]
  },
  {
   "cell_type": "code",
   "execution_count": 6,
   "metadata": {},
   "outputs": [
    {
     "data": {
      "text/plain": [
       "Text(0.5, 1.0, 'Average Number of passengers per Vehicle')"
      ]
     },
     "execution_count": 6,
     "metadata": {},
     "output_type": "execute_result"
    },
    {
     "data": {
      "image/png": "[encoded data removed]",
      "text/plain": [
       "<Figure size 432x288 with 1 Axes>"
      ]
     },
     "metadata": {
      "needs_background": "light"
     },
     "output_type": "display_data"
    }
   ],
   "source": [
    "res.Num_Passengers.plot(kind='hist')\n",
    "plt.title('Average Number of passengers per Vehicle')"
   ]
  },
  {
   "cell_type": "code",
   "execution_count": 63,
   "metadata": {},
   "outputs": [],
   "source": [
    "list_id = list(res[res['Num_Passengers']>=3.5].Vehicle_ID)"
   ]
  },
  {
   "cell_type": "code",
   "execution_count": 66,
   "metadata": {},
   "outputs": [],
   "source": [
    "df_short = df_paths[df_paths['Vehicle_ID'].isin(list_id)]"
   ]
  },
  {
   "cell_type": "code",
   "execution_count": 69,
   "metadata": {},
   "outputs": [],
   "source": [
    "df_short.to_csv('vehicle_paths_short.csv')"
   ]
  },
  {
   "cell_type": "code",
   "execution_count": 70,
   "metadata": {},
   "outputs": [
    {
     "data": {
      "text/html": [
       "<div>\n",
       "<style scoped>\n",
       "    .dataframe tbody tr th:only-of-type {\n",
       "        vertical-align: middle;\n",
       "    }\n",
       "\n",
       "    .dataframe tbody tr th {\n",
       "        vertical-align: top;\n",
       "    }\n",
       "\n",
       "    .dataframe thead th {\n",
       "        text-align: right;\n",
       "    }\n",
       "</style>\n",
       "<table border=\"1\" class=\"dataframe\">\n",
       "  <thead>\n",
       "    <tr style=\"text-align: right;\">\n",
       "      <th></th>\n",
       "      <th>Timestamp</th>\n",
       "      <th>Vehicle_ID</th>\n",
       "      <th>Latitude</th>\n",
       "      <th>Longitude</th>\n",
       "      <th>Num_Passengers</th>\n",
       "    </tr>\n",
       "  </thead>\n",
       "  <tbody>\n",
       "    <tr>\n",
       "      <th>1</th>\n",
       "      <td>1380949200</td>\n",
       "      <td>89</td>\n",
       "      <td>40.71429</td>\n",
       "      <td>-74.01153</td>\n",
       "      <td>0</td>\n",
       "    </tr>\n",
       "    <tr>\n",
       "      <th>11</th>\n",
       "      <td>1380949200</td>\n",
       "      <td>267</td>\n",
       "      <td>40.75964</td>\n",
       "      <td>-73.97206</td>\n",
       "      <td>0</td>\n",
       "    </tr>\n",
       "    <tr>\n",
       "      <th>18</th>\n",
       "      <td>1380949200</td>\n",
       "      <td>388</td>\n",
       "      <td>40.75582</td>\n",
       "      <td>-73.97074</td>\n",
       "      <td>0</td>\n",
       "    </tr>\n",
       "    <tr>\n",
       "      <th>79</th>\n",
       "      <td>1380949231</td>\n",
       "      <td>55</td>\n",
       "      <td>40.78391</td>\n",
       "      <td>-73.95030</td>\n",
       "      <td>0</td>\n",
       "    </tr>\n",
       "    <tr>\n",
       "      <th>113</th>\n",
       "      <td>1380949241</td>\n",
       "      <td>419</td>\n",
       "      <td>40.70906</td>\n",
       "      <td>-74.01696</td>\n",
       "      <td>0</td>\n",
       "    </tr>\n",
       "  </tbody>\n",
       "</table>\n",
       "</div>"
      ],
      "text/plain": [
       "      Timestamp  Vehicle_ID  Latitude  Longitude  Num_Passengers\n",
       "1    1380949200          89  40.71429  -74.01153               0\n",
       "11   1380949200         267  40.75964  -73.97206               0\n",
       "18   1380949200         388  40.75582  -73.97074               0\n",
       "79   1380949231          55  40.78391  -73.95030               0\n",
       "113  1380949241         419  40.70906  -74.01696               0"
      ]
     },
     "execution_count": 70,
     "metadata": {},
     "output_type": "execute_result"
    }
   ],
   "source": [
    "df_short.head()"
   ]
  },
  {
   "cell_type": "code",
   "execution_count": null,
   "metadata": {},
   "outputs": [],
   "source": []
  }
 ],
 "metadata": {
  "kernelspec": {
   "display_name": "Python 3",
   "language": "python",
   "name": "python3"
  },
  "language_info": {
   "codemirror_mode": {
    "name": "ipython",
    "version": 3
   },
   "file_extension": ".py",
   "mimetype": "text/x-python",
   "name": "python",
   "nbconvert_exporter": "python",
   "pygments_lexer": "ipython3",
   "version": "3.6.8"
  }
 },
 "nbformat": 4,
 "nbformat_minor": 2
}
